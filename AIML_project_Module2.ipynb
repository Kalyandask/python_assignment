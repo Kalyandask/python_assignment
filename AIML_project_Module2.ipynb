{
  "nbformat": 4,
  "nbformat_minor": 0,
  "metadata": {
    "colab": {
      "provenance": [],
      "authorship_tag": "ABX9TyPbDcch0n27lMCb6PXVvgkD",
      "include_colab_link": true
    },
    "kernelspec": {
      "name": "python3",
      "display_name": "Python 3"
    },
    "language_info": {
      "name": "python"
    },
    "widgets": {
      "application/vnd.jupyter.widget-state+json": {
        "704cd1d6164b4dd392e8b4af0df3a42a": {
          "model_module": "@jupyter-widgets/controls",
          "model_name": "HBoxModel",
          "model_module_version": "1.5.0",
          "state": {
            "_dom_classes": [],
            "_model_module": "@jupyter-widgets/controls",
            "_model_module_version": "1.5.0",
            "_model_name": "HBoxModel",
            "_view_count": null,
            "_view_module": "@jupyter-widgets/controls",
            "_view_module_version": "1.5.0",
            "_view_name": "HBoxView",
            "box_style": "",
            "children": [
              "IPY_MODEL_3abd0bff85f1454a9660675f0567b87b",
              "IPY_MODEL_db301e975a2942dc976cb38059ad96d7",
              "IPY_MODEL_8982900b4d2142bc9c8032ba35837860"
            ],
            "layout": "IPY_MODEL_de68d229dca340a9938fedd55af82d94"
          }
        },
        "3abd0bff85f1454a9660675f0567b87b": {
          "model_module": "@jupyter-widgets/controls",
          "model_name": "HTMLModel",
          "model_module_version": "1.5.0",
          "state": {
            "_dom_classes": [],
            "_model_module": "@jupyter-widgets/controls",
            "_model_module_version": "1.5.0",
            "_model_name": "HTMLModel",
            "_view_count": null,
            "_view_module": "@jupyter-widgets/controls",
            "_view_module_version": "1.5.0",
            "_view_name": "HTMLView",
            "description": "",
            "description_tooltip": null,
            "layout": "IPY_MODEL_eca3931ec5584a1f8dbd88b5237e189f",
            "placeholder": "​",
            "style": "IPY_MODEL_81b48921d5ec4a6e86e711b0e2b8929c",
            "value": "Building Mutation Matrix: 100%"
          }
        },
        "db301e975a2942dc976cb38059ad96d7": {
          "model_module": "@jupyter-widgets/controls",
          "model_name": "FloatProgressModel",
          "model_module_version": "1.5.0",
          "state": {
            "_dom_classes": [],
            "_model_module": "@jupyter-widgets/controls",
            "_model_module_version": "1.5.0",
            "_model_name": "FloatProgressModel",
            "_view_count": null,
            "_view_module": "@jupyter-widgets/controls",
            "_view_module_version": "1.5.0",
            "_view_name": "ProgressView",
            "bar_style": "success",
            "description": "",
            "description_tooltip": null,
            "layout": "IPY_MODEL_649ac9ec38b34156b8680f13ef03f470",
            "max": 685,
            "min": 0,
            "orientation": "horizontal",
            "style": "IPY_MODEL_3e8b014d3ad84fb4b42765b234fb2510",
            "value": 685
          }
        },
        "8982900b4d2142bc9c8032ba35837860": {
          "model_module": "@jupyter-widgets/controls",
          "model_name": "HTMLModel",
          "model_module_version": "1.5.0",
          "state": {
            "_dom_classes": [],
            "_model_module": "@jupyter-widgets/controls",
            "_model_module_version": "1.5.0",
            "_model_name": "HTMLModel",
            "_view_count": null,
            "_view_module": "@jupyter-widgets/controls",
            "_view_module_version": "1.5.0",
            "_view_name": "HTMLView",
            "description": "",
            "description_tooltip": null,
            "layout": "IPY_MODEL_005e98b1d0e24612bb91b010229a2724",
            "placeholder": "​",
            "style": "IPY_MODEL_f027b681b1234298832e9711487f3e29",
            "value": " 685/685 [00:01&lt;00:00, 661.45it/s]"
          }
        },
        "de68d229dca340a9938fedd55af82d94": {
          "model_module": "@jupyter-widgets/base",
          "model_name": "LayoutModel",
          "model_module_version": "1.2.0",
          "state": {
            "_model_module": "@jupyter-widgets/base",
            "_model_module_version": "1.2.0",
            "_model_name": "LayoutModel",
            "_view_count": null,
            "_view_module": "@jupyter-widgets/base",
            "_view_module_version": "1.2.0",
            "_view_name": "LayoutView",
            "align_content": null,
            "align_items": null,
            "align_self": null,
            "border": null,
            "bottom": null,
            "display": null,
            "flex": null,
            "flex_flow": null,
            "grid_area": null,
            "grid_auto_columns": null,
            "grid_auto_flow": null,
            "grid_auto_rows": null,
            "grid_column": null,
            "grid_gap": null,
            "grid_row": null,
            "grid_template_areas": null,
            "grid_template_columns": null,
            "grid_template_rows": null,
            "height": null,
            "justify_content": null,
            "justify_items": null,
            "left": null,
            "margin": null,
            "max_height": null,
            "max_width": null,
            "min_height": null,
            "min_width": null,
            "object_fit": null,
            "object_position": null,
            "order": null,
            "overflow": null,
            "overflow_x": null,
            "overflow_y": null,
            "padding": null,
            "right": null,
            "top": null,
            "visibility": null,
            "width": null
          }
        },
        "eca3931ec5584a1f8dbd88b5237e189f": {
          "model_module": "@jupyter-widgets/base",
          "model_name": "LayoutModel",
          "model_module_version": "1.2.0",
          "state": {
            "_model_module": "@jupyter-widgets/base",
            "_model_module_version": "1.2.0",
            "_model_name": "LayoutModel",
            "_view_count": null,
            "_view_module": "@jupyter-widgets/base",
            "_view_module_version": "1.2.0",
            "_view_name": "LayoutView",
            "align_content": null,
            "align_items": null,
            "align_self": null,
            "border": null,
            "bottom": null,
            "display": null,
            "flex": null,
            "flex_flow": null,
            "grid_area": null,
            "grid_auto_columns": null,
            "grid_auto_flow": null,
            "grid_auto_rows": null,
            "grid_column": null,
            "grid_gap": null,
            "grid_row": null,
            "grid_template_areas": null,
            "grid_template_columns": null,
            "grid_template_rows": null,
            "height": null,
            "justify_content": null,
            "justify_items": null,
            "left": null,
            "margin": null,
            "max_height": null,
            "max_width": null,
            "min_height": null,
            "min_width": null,
            "object_fit": null,
            "object_position": null,
            "order": null,
            "overflow": null,
            "overflow_x": null,
            "overflow_y": null,
            "padding": null,
            "right": null,
            "top": null,
            "visibility": null,
            "width": null
          }
        },
        "81b48921d5ec4a6e86e711b0e2b8929c": {
          "model_module": "@jupyter-widgets/controls",
          "model_name": "DescriptionStyleModel",
          "model_module_version": "1.5.0",
          "state": {
            "_model_module": "@jupyter-widgets/controls",
            "_model_module_version": "1.5.0",
            "_model_name": "DescriptionStyleModel",
            "_view_count": null,
            "_view_module": "@jupyter-widgets/base",
            "_view_module_version": "1.2.0",
            "_view_name": "StyleView",
            "description_width": ""
          }
        },
        "649ac9ec38b34156b8680f13ef03f470": {
          "model_module": "@jupyter-widgets/base",
          "model_name": "LayoutModel",
          "model_module_version": "1.2.0",
          "state": {
            "_model_module": "@jupyter-widgets/base",
            "_model_module_version": "1.2.0",
            "_model_name": "LayoutModel",
            "_view_count": null,
            "_view_module": "@jupyter-widgets/base",
            "_view_module_version": "1.2.0",
            "_view_name": "LayoutView",
            "align_content": null,
            "align_items": null,
            "align_self": null,
            "border": null,
            "bottom": null,
            "display": null,
            "flex": null,
            "flex_flow": null,
            "grid_area": null,
            "grid_auto_columns": null,
            "grid_auto_flow": null,
            "grid_auto_rows": null,
            "grid_column": null,
            "grid_gap": null,
            "grid_row": null,
            "grid_template_areas": null,
            "grid_template_columns": null,
            "grid_template_rows": null,
            "height": null,
            "justify_content": null,
            "justify_items": null,
            "left": null,
            "margin": null,
            "max_height": null,
            "max_width": null,
            "min_height": null,
            "min_width": null,
            "object_fit": null,
            "object_position": null,
            "order": null,
            "overflow": null,
            "overflow_x": null,
            "overflow_y": null,
            "padding": null,
            "right": null,
            "top": null,
            "visibility": null,
            "width": null
          }
        },
        "3e8b014d3ad84fb4b42765b234fb2510": {
          "model_module": "@jupyter-widgets/controls",
          "model_name": "ProgressStyleModel",
          "model_module_version": "1.5.0",
          "state": {
            "_model_module": "@jupyter-widgets/controls",
            "_model_module_version": "1.5.0",
            "_model_name": "ProgressStyleModel",
            "_view_count": null,
            "_view_module": "@jupyter-widgets/base",
            "_view_module_version": "1.2.0",
            "_view_name": "StyleView",
            "bar_color": null,
            "description_width": ""
          }
        },
        "005e98b1d0e24612bb91b010229a2724": {
          "model_module": "@jupyter-widgets/base",
          "model_name": "LayoutModel",
          "model_module_version": "1.2.0",
          "state": {
            "_model_module": "@jupyter-widgets/base",
            "_model_module_version": "1.2.0",
            "_model_name": "LayoutModel",
            "_view_count": null,
            "_view_module": "@jupyter-widgets/base",
            "_view_module_version": "1.2.0",
            "_view_name": "LayoutView",
            "align_content": null,
            "align_items": null,
            "align_self": null,
            "border": null,
            "bottom": null,
            "display": null,
            "flex": null,
            "flex_flow": null,
            "grid_area": null,
            "grid_auto_columns": null,
            "grid_auto_flow": null,
            "grid_auto_rows": null,
            "grid_column": null,
            "grid_gap": null,
            "grid_row": null,
            "grid_template_areas": null,
            "grid_template_columns": null,
            "grid_template_rows": null,
            "height": null,
            "justify_content": null,
            "justify_items": null,
            "left": null,
            "margin": null,
            "max_height": null,
            "max_width": null,
            "min_height": null,
            "min_width": null,
            "object_fit": null,
            "object_position": null,
            "order": null,
            "overflow": null,
            "overflow_x": null,
            "overflow_y": null,
            "padding": null,
            "right": null,
            "top": null,
            "visibility": null,
            "width": null
          }
        },
        "f027b681b1234298832e9711487f3e29": {
          "model_module": "@jupyter-widgets/controls",
          "model_name": "DescriptionStyleModel",
          "model_module_version": "1.5.0",
          "state": {
            "_model_module": "@jupyter-widgets/controls",
            "_model_module_version": "1.5.0",
            "_model_name": "DescriptionStyleModel",
            "_view_count": null,
            "_view_module": "@jupyter-widgets/base",
            "_view_module_version": "1.2.0",
            "_view_name": "StyleView",
            "description_width": ""
          }
        }
      }
    }
  },
  "cells": [
    {
      "cell_type": "markdown",
      "metadata": {
        "id": "view-in-github",
        "colab_type": "text"
      },
      "source": [
        "<a href=\"https://colab.research.google.com/github/Kalyandask/python_assignment/blob/main/AIML_project_Module2.ipynb\" target=\"_parent\"><img src=\"https://colab.research.google.com/assets/colab-badge.svg\" alt=\"Open In Colab\"/></a>"
      ]
    },
    {
      "cell_type": "code",
      "execution_count": null,
      "metadata": {
        "id": "SxckEjAA65_2",
        "colab": {
          "base_uri": "https://localhost:8080/"
        },
        "outputId": "87bc735b-3882-4af8-9dff-dfd6151b0e46"
      },
      "outputs": [
        {
          "output_type": "stream",
          "name": "stderr",
          "text": [
            "/tmp/ipython-input-4025055750.py:5: TqdmExperimentalWarning: Using `tqdm.autonotebook.tqdm` in notebook mode. Use `tqdm.tqdm` instead to force console mode (e.g. in jupyter console)\n",
            "  from tqdm.autonotebook import tqdm\n"
          ]
        }
      ],
      "source": [
        "from google.colab import files\n",
        "import pandas as pd\n",
        "import numpy as np\n",
        "from Bio import SeqIO\n",
        "from tqdm.autonotebook import tqdm\n",
        "import plotly.express as px\n",
        "import matplotlib.pyplot as plt"
      ]
    },
    {
      "cell_type": "code",
      "source": [
        "# --- Load Data ---\n",
        "data = pd.read_csv(\"INDIA_685.csv\")\n",
        "print(\"Original Metadata Loaded:\")\n",
        "print(data.head())\n",
        "\n",
        "# --- Step 1: TIME SERIES PREPARATION (Crucial Addition) ---\n",
        "# NOTE: The original data may or may not have a 'Collection_Date'.\n",
        "# We create a SYNTHETIC 'Date' column for demonstration, assuming the 685 samples\n",
        "# were collected uniformly over 90 days (March to May 2020).\n",
        "start_date = pd.to_datetime('2020-03-01')\n",
        "end_date = pd.to_datetime('2020-05-30')\n",
        "data['Date'] = pd.to_datetime(np.random.choice(pd.date_range(start_date, end_date), size=len(data)))\n",
        "data = data.sort_values(by='Date').reset_index(drop=True)\n",
        "\n",
        "print(\"\\nMetadata with Synthetic Date:\")\n",
        "print(data[['StrainID', 'Date', 'State']].head())"
      ],
      "metadata": {
        "id": "Nu0CbBz2HmNy",
        "colab": {
          "base_uri": "https://localhost:8080/"
        },
        "outputId": "0dacd772-9e8e-4fa1-ea39-06d6c5625ef5"
      },
      "execution_count": null,
      "outputs": [
        {
          "output_type": "stream",
          "name": "stdout",
          "text": [
            "Original Metadata Loaded:\n",
            "                                            StrainID    Accession_ID  \\\n",
            "0  hCoV-19/India/1-27/2020|EPI_ISL_413522|2020-01-27  EPI_ISL_413522   \n",
            "1  hCoV-19/India/1-31/2020|EPI_ISL_413523|2020-01-31  EPI_ISL_413523   \n",
            "2  hCoV-19/India/1063/2020|EPI_ISL_424361|2020-03-10  EPI_ISL_424361   \n",
            "3  hCoV-19/India/1073/2020|EPI_ISL_421662|2020-03-10  EPI_ISL_421662   \n",
            "4  hCoV-19/India/1093/2020|EPI_ISL_421663|2020-03-10  EPI_ISL_421663   \n",
            "\n",
            "                Location      State   Host  Gender Patient age Patient status  \\\n",
            "0  Asia / India / Kerala     Kerala  Human  Female          20      Recovered   \n",
            "1  Asia / India / Kerala     Kerala  Human    Male          23      Recovered   \n",
            "2           Asia / India  Stateless  Human  Female          33            NaN   \n",
            "3           Asia / India  Stateless  Human    Male          68        unknown   \n",
            "4           Asia / India  Stateless  Human    Male          45        unknown   \n",
            "\n",
            "  Collection_date                                    Originating lab  \\\n",
            "0      27/01/2020  Indian Council of Medical Research - National ...   \n",
            "1      31/01/2020  Indian Council of Medical Research-National In...   \n",
            "2      10/03/2020  National Influenza Center, Indian Council of M...   \n",
            "3      10/03/2020  National Influenza Center, Indian Council of M...   \n",
            "4      10/03/2020  National Influenza Center, Indian Council of M...   \n",
            "\n",
            "                                             Authors  \\\n",
            "0     Potdar V, Yadav PD, Choudhary ML, Shete-Aich A   \n",
            "1     Potdar V, Yadav PD, Choudhary ML, Shete-Aich A   \n",
            "2  Pragya D. Yadav, Varsha Potdar, Savita Patil, ...   \n",
            "3  Pragya D. Yadav, Varsha Potdar, Savita Patil, ...   \n",
            "4  Pragya D. Yadav, Varsha Potdar, Savita Patil, ...   \n",
            "\n",
            "                                            Nuc_muts  \n",
            "0  ['T2277C', 'C6695T', 'C14657T', 'C17373T', 'G2...  \n",
            "1  ['A1691G', 'C6501T', 'C8782T', 'C16877T', 'C24...  \n",
            "2  ['G7C', 'C884T', 'G1397A', 'G8653T', 'G11083T'...  \n",
            "3  ['C884T', 'G1397A', 'A3472G', 'G8653T', 'T9318...  \n",
            "4  ['C884T', 'G1397A', 'C2141A', 'A3472G', 'G8653...  \n",
            "\n",
            "Metadata with Synthetic Date:\n",
            "                                            StrainID       Date        State\n",
            "0  hCoV-19/India/CCMB_L1021/2020|EPI_ISL_458046|2... 2020-03-01    Telangana\n",
            "1    hCoV-19/India/S2/2020|EPI_ISL_430468|2020-03-21 2020-03-01  West Bengal\n",
            "2  hCoV-19/India/GBRC2/2020|EPI_ISL_435049|2020-0... 2020-03-01      Gujarat\n",
            "3   hCoV-19/India/S15/2020|EPI_ISL_455645|2020-04-03 2020-03-01  West Bengal\n",
            "4  hCoV-19/India/CCMB_J300/2020|EPI_ISL_458080|20... 2020-03-01    Telangana\n"
          ]
        }
      ]
    },
    {
      "cell_type": "code",
      "source": [
        "mutations = []\n",
        "for i in range(len(data)):\n",
        "    # Safely handle the string format '[mut1, mut2]' -> 'mut1, mut2'\n",
        "    sample_muts_str = data[\"Nuc_muts\"][i][1:][:-1]\n",
        "    if sample_muts_str:\n",
        "        sample_muts = sample_muts_str.split(\",\")\n",
        "        for j in sample_muts:\n",
        "            mut = j.strip()[1:][:-1]\n",
        "            if(len(mut) >= 2 and mut not in mutations):\n",
        "                mutations.append(mut)\n",
        "\n",
        "print(f\"\\nTotal Unique Mutations: {len(mutations)}\")\n",
        "\n",
        "# Create the binary Mutation Profile DataFrame (rows=Strains, cols=Mutations)\n",
        "samplelist = data[\"StrainID\"].tolist()\n",
        "mutation_df = pd.DataFrame(0, index=samplelist, columns=mutations)\n",
        "\n",
        "for i in tqdm(range(len(data)), desc=\"Building Mutation Matrix\"):\n",
        "    strainid = data[\"StrainID\"][i]\n",
        "    sample_muts_str = data[\"Nuc_muts\"][i][1:][:-1]\n",
        "    if sample_muts_str:\n",
        "        sample_muts = sample_muts_str.split(\",\")\n",
        "        for j in sample_muts:\n",
        "            mut = j.strip()[1:][:-1]\n",
        "            if(len(mut) >= 2 and mut in mutation_df.columns):\n",
        "                mutation_df.loc[strainid, mut] = 1\n",
        "\n",
        "print(\"\\nMutation Profile Matrix (Sample):\")\n",
        "print(mutation_df.head())"
      ],
      "metadata": {
        "colab": {
          "base_uri": "https://localhost:8080/",
          "height": 986,
          "referenced_widgets": [
            "704cd1d6164b4dd392e8b4af0df3a42a",
            "3abd0bff85f1454a9660675f0567b87b",
            "db301e975a2942dc976cb38059ad96d7",
            "8982900b4d2142bc9c8032ba35837860",
            "de68d229dca340a9938fedd55af82d94",
            "eca3931ec5584a1f8dbd88b5237e189f",
            "81b48921d5ec4a6e86e711b0e2b8929c",
            "649ac9ec38b34156b8680f13ef03f470",
            "3e8b014d3ad84fb4b42765b234fb2510",
            "005e98b1d0e24612bb91b010229a2724",
            "f027b681b1234298832e9711487f3e29"
          ]
        },
        "id": "LLiGmCWnAApI",
        "outputId": "ddc2f74b-7945-4da0-a5e3-e988827a59ee"
      },
      "execution_count": null,
      "outputs": [
        {
          "output_type": "stream",
          "name": "stdout",
          "text": [
            "\n",
            "Total Unique Mutations: 1279\n"
          ]
        },
        {
          "output_type": "display_data",
          "data": {
            "text/plain": [
              "Building Mutation Matrix:   0%|          | 0/685 [00:00<?, ?it/s]"
            ],
            "application/vnd.jupyter.widget-view+json": {
              "version_major": 2,
              "version_minor": 0,
              "model_id": "704cd1d6164b4dd392e8b4af0df3a42a"
            }
          },
          "metadata": {}
        },
        {
          "output_type": "stream",
          "name": "stdout",
          "text": [
            "\n",
            "Mutation Profile Matrix (Sample):\n",
            "                                                    C241T  C3037T  G4354A  \\\n",
            "hCoV-19/India/CCMB_L1021/2020|EPI_ISL_458046|20...      1       1       1   \n",
            "hCoV-19/India/S2/2020|EPI_ISL_430468|2020-03-21         1       1       0   \n",
            "hCoV-19/India/GBRC2/2020|EPI_ISL_435049|2020-04-13      1       1       0   \n",
            "hCoV-19/India/S15/2020|EPI_ISL_455645|2020-04-03        0       0       0   \n",
            "hCoV-19/India/CCMB_J300/2020|EPI_ISL_458080|202...      0       0       0   \n",
            "\n",
            "                                                    C6573T  C12439T  C14408T  \\\n",
            "hCoV-19/India/CCMB_L1021/2020|EPI_ISL_458046|20...       1        1        1   \n",
            "hCoV-19/India/S2/2020|EPI_ISL_430468|2020-03-21          0        0        1   \n",
            "hCoV-19/India/GBRC2/2020|EPI_ISL_435049|2020-04-13       0        0        1   \n",
            "hCoV-19/India/S15/2020|EPI_ISL_455645|2020-04-03         0        0        0   \n",
            "hCoV-19/India/CCMB_J300/2020|EPI_ISL_458080|202...       0        0        0   \n",
            "\n",
            "                                                    A21550C  A21551T  G23120T  \\\n",
            "hCoV-19/India/CCMB_L1021/2020|EPI_ISL_458046|20...        1        1        1   \n",
            "hCoV-19/India/S2/2020|EPI_ISL_430468|2020-03-21           0        0        0   \n",
            "hCoV-19/India/GBRC2/2020|EPI_ISL_435049|2020-04-13        0        0        0   \n",
            "hCoV-19/India/S15/2020|EPI_ISL_455645|2020-04-03          0        0        0   \n",
            "hCoV-19/India/CCMB_J300/2020|EPI_ISL_458080|202...        0        0        0   \n",
            "\n",
            "                                                    A23403G  ...  T21543A  \\\n",
            "hCoV-19/India/CCMB_L1021/2020|EPI_ISL_458046|20...        1  ...        0   \n",
            "hCoV-19/India/S2/2020|EPI_ISL_430468|2020-03-21           1  ...        0   \n",
            "hCoV-19/India/GBRC2/2020|EPI_ISL_435049|2020-04-13        1  ...        0   \n",
            "hCoV-19/India/S15/2020|EPI_ISL_455645|2020-04-03          0  ...        0   \n",
            "hCoV-19/India/CCMB_J300/2020|EPI_ISL_458080|202...        0  ...        0   \n",
            "\n",
            "                                                    G16975T  T76A  A17656G  \\\n",
            "hCoV-19/India/CCMB_L1021/2020|EPI_ISL_458046|20...        0     0        0   \n",
            "hCoV-19/India/S2/2020|EPI_ISL_430468|2020-03-21           0     0        0   \n",
            "hCoV-19/India/GBRC2/2020|EPI_ISL_435049|2020-04-13        0     0        0   \n",
            "hCoV-19/India/S15/2020|EPI_ISL_455645|2020-04-03          0     0        0   \n",
            "hCoV-19/India/CCMB_J300/2020|EPI_ISL_458080|202...        0     0        0   \n",
            "\n",
            "                                                    G20102T  C24642T  A16061G  \\\n",
            "hCoV-19/India/CCMB_L1021/2020|EPI_ISL_458046|20...        0        0        0   \n",
            "hCoV-19/India/S2/2020|EPI_ISL_430468|2020-03-21           0        0        0   \n",
            "hCoV-19/India/GBRC2/2020|EPI_ISL_435049|2020-04-13        0        0        0   \n",
            "hCoV-19/India/S15/2020|EPI_ISL_455645|2020-04-03          0        0        0   \n",
            "hCoV-19/India/CCMB_J300/2020|EPI_ISL_458080|202...        0        0        0   \n",
            "\n",
            "                                                    T17574A  C21365T  G25621T  \n",
            "hCoV-19/India/CCMB_L1021/2020|EPI_ISL_458046|20...        0        0        0  \n",
            "hCoV-19/India/S2/2020|EPI_ISL_430468|2020-03-21           0        0        0  \n",
            "hCoV-19/India/GBRC2/2020|EPI_ISL_435049|2020-04-13        0        0        0  \n",
            "hCoV-19/India/S15/2020|EPI_ISL_455645|2020-04-03          0        0        0  \n",
            "hCoV-19/India/CCMB_J300/2020|EPI_ISL_458080|202...        0        0        0  \n",
            "\n",
            "[5 rows x 1279 columns]\n"
          ]
        }
      ]
    },
    {
      "cell_type": "code",
      "source": [
        "# Select the key mutations to track their frequency\n",
        "KEY_MUTATIONS = [\n",
        "    'C13730T', # I/A3i subclade (Telangana/Delhi/TN)\n",
        "    'C23929T', # I/A3i subclade (Telangana/Delhi/TN)\n",
        "    'G25563T'  # I/GJ-20A subclade (Gujarat)\n",
        "]\n",
        "\n",
        "# Ensure the selected mutations are actually in the dataset\n",
        "mutations_to_plot = [m for m in KEY_MUTATIONS if m in mutation_df.columns]\n",
        "if not mutations_to_plot:\n",
        "    print(\"\\nError: Key mutations not found in the dataset for plotting.\")\n",
        "else:\n",
        "    # Join the mutation profile with the date metadata\n",
        "    df_plot = mutation_df.loc[data['StrainID']][mutations_to_plot]\n",
        "    df_plot['Date'] = data['Date'].values"
      ],
      "metadata": {
        "id": "6OZlk2HxALrZ"
      },
      "execution_count": null,
      "outputs": []
    },
    {
      "cell_type": "code",
      "source": [
        "df_plot['Total_Sequences'] = df_plot.index.to_series().rank(method='first').astype(int)"
      ],
      "metadata": {
        "id": "0YyA7-cVMGWu"
      },
      "execution_count": null,
      "outputs": []
    },
    {
      "cell_type": "code",
      "source": [
        "weekly_data = df_plot.groupby(df_plot['Date'].dt.to_period('W')).agg(\n",
        "        **{mut: ('Total_Sequences', 'count') for mut in mutations_to_plot},\n",
        "        Total_Count=('Total_Sequences', 'count')\n",
        "    ).fillna(0)"
      ],
      "metadata": {
        "id": "QEreDYsfMJ9B"
      },
      "execution_count": null,
      "outputs": []
    },
    {
      "cell_type": "code",
      "source": [
        "for mut in mutations_to_plot:\n",
        "        weekly_data[f'Frequency_{mut}'] = (weekly_data[mut] / weekly_data['Total_Count']) * 100"
      ],
      "metadata": {
        "id": "7RA4OsI4MMtl"
      },
      "execution_count": null,
      "outputs": []
    },
    {
      "cell_type": "code",
      "source": [
        "weekly_data['Week'] = weekly_data.index.to_timestamp()\n",
        "df_final_plot = weekly_data.filter(like='Frequency_')\n",
        "df_final_plot['Week'] = weekly_data['Week']\n",
        "df_final_plot = df_final_plot.reset_index(drop=True)\n",
        "df_final_plot = df_final_plot.melt(id_vars=['Week'], var_name='Mutation', value_name='Frequency (%)')\n",
        "df_final_plot['Mutation'] = df_final_plot['Mutation'].str.replace('Frequency_', '')\n",
        "\n",
        "# --- Plotting ---\n",
        "fig = px.line(\n",
        "    df_final_plot,\n",
        "    x='Week',\n",
        "    y='Frequency (%)',\n",
        "    color='Mutation',\n",
        "    title='Temporal Prevalence of Key SARS-CoV-2 Mutations (Synthetic Data)',\n",
        "    labels={'Week': 'Collection Week', 'Frequency (%)': 'Weekly Prevalence (%)'},\n",
        "    line_shape='spline'\n",
        ")\n",
        "\n",
        "fig.update_layout(\n",
        "    xaxis_title=\"Collection Week\",\n",
        "    yaxis_title=\"Weekly Prevalence (%)\",\n",
        "    legend_title=\"Mutation\",\n",
        "    hovermode=\"x unified\"\n",
        ")\n",
        "\n",
        "fig.show(renderer=\"colab\")"
      ],
      "metadata": {
        "id": "ywPO27-BMOW_",
        "outputId": "899cf7cb-107f-4df9-947a-13d2754e31dd",
        "colab": {
          "base_uri": "https://localhost:8080/",
          "height": 646
        }
      },
      "execution_count": 43,
      "outputs": [
        {
          "output_type": "stream",
          "name": "stderr",
          "text": [
            "/tmp/ipython-input-1518252049.py:3: SettingWithCopyWarning: \n",
            "A value is trying to be set on a copy of a slice from a DataFrame.\n",
            "Try using .loc[row_indexer,col_indexer] = value instead\n",
            "\n",
            "See the caveats in the documentation: https://pandas.pydata.org/pandas-docs/stable/user_guide/indexing.html#returning-a-view-versus-a-copy\n",
            "  df_final_plot['Week'] = weekly_data['Week']\n"
          ]
        },
        {
          "output_type": "display_data",
          "data": {
            "text/html": [
              "<html>\n",
              "<head><meta charset=\"utf-8\" /></head>\n",
              "<body>\n",
              "    <div>            <script src=\"https://cdnjs.cloudflare.com/ajax/libs/mathjax/2.7.5/MathJax.js?config=TeX-AMS-MML_SVG\"></script><script type=\"text/javascript\">if (window.MathJax && window.MathJax.Hub && window.MathJax.Hub.Config) {window.MathJax.Hub.Config({SVG: {font: \"STIX-Web\"}});}</script>                <script type=\"text/javascript\">window.PlotlyConfig = {MathJaxConfig: 'local'};</script>\n",
              "        <script charset=\"utf-8\" src=\"https://cdn.plot.ly/plotly-2.35.2.min.js\"></script>                <div id=\"a9169511-f6af-4492-8eba-3b7e668a509b\" class=\"plotly-graph-div\" style=\"height:525px; width:100%;\"></div>            <script type=\"text/javascript\">                                    window.PLOTLYENV=window.PLOTLYENV || {};                                    if (document.getElementById(\"a9169511-f6af-4492-8eba-3b7e668a509b\")) {                    Plotly.newPlot(                        \"a9169511-f6af-4492-8eba-3b7e668a509b\",                        [{\"hovertemplate\":\"Mutation=C13730T\\u003cbr\\u003eCollection Week=%{x}\\u003cbr\\u003eWeekly Prevalence (%)=%{y}\\u003cextra\\u003e\\u003c\\u002fextra\\u003e\",\"legendgroup\":\"C13730T\",\"line\":{\"color\":\"#636efa\",\"dash\":\"solid\",\"shape\":\"spline\"},\"marker\":{\"symbol\":\"circle\"},\"mode\":\"lines\",\"name\":\"C13730T\",\"orientation\":\"v\",\"showlegend\":true,\"x\":[\"2020-02-24T00:00:00\",\"2020-03-02T00:00:00\",\"2020-03-09T00:00:00\",\"2020-03-16T00:00:00\",\"2020-03-23T00:00:00\",\"2020-03-30T00:00:00\",\"2020-04-06T00:00:00\",\"2020-04-13T00:00:00\",\"2020-04-20T00:00:00\",\"2020-04-27T00:00:00\",\"2020-05-04T00:00:00\",\"2020-05-11T00:00:00\",\"2020-05-18T00:00:00\",\"2020-05-25T00:00:00\"],\"xaxis\":\"x\",\"y\":[100.0,100.0,100.0,100.0,100.0,100.0,100.0,100.0,100.0,100.0,100.0,100.0,100.0,100.0],\"yaxis\":\"y\",\"type\":\"scatter\"},{\"hovertemplate\":\"Mutation=C23929T\\u003cbr\\u003eCollection Week=%{x}\\u003cbr\\u003eWeekly Prevalence (%)=%{y}\\u003cextra\\u003e\\u003c\\u002fextra\\u003e\",\"legendgroup\":\"C23929T\",\"line\":{\"color\":\"#EF553B\",\"dash\":\"solid\",\"shape\":\"spline\"},\"marker\":{\"symbol\":\"circle\"},\"mode\":\"lines\",\"name\":\"C23929T\",\"orientation\":\"v\",\"showlegend\":true,\"x\":[\"2020-02-24T00:00:00\",\"2020-03-02T00:00:00\",\"2020-03-09T00:00:00\",\"2020-03-16T00:00:00\",\"2020-03-23T00:00:00\",\"2020-03-30T00:00:00\",\"2020-04-06T00:00:00\",\"2020-04-13T00:00:00\",\"2020-04-20T00:00:00\",\"2020-04-27T00:00:00\",\"2020-05-04T00:00:00\",\"2020-05-11T00:00:00\",\"2020-05-18T00:00:00\",\"2020-05-25T00:00:00\"],\"xaxis\":\"x\",\"y\":[100.0,100.0,100.0,100.0,100.0,100.0,100.0,100.0,100.0,100.0,100.0,100.0,100.0,100.0],\"yaxis\":\"y\",\"type\":\"scatter\"},{\"hovertemplate\":\"Mutation=G25563T\\u003cbr\\u003eCollection Week=%{x}\\u003cbr\\u003eWeekly Prevalence (%)=%{y}\\u003cextra\\u003e\\u003c\\u002fextra\\u003e\",\"legendgroup\":\"G25563T\",\"line\":{\"color\":\"#00cc96\",\"dash\":\"solid\",\"shape\":\"spline\"},\"marker\":{\"symbol\":\"circle\"},\"mode\":\"lines\",\"name\":\"G25563T\",\"orientation\":\"v\",\"showlegend\":true,\"x\":[\"2020-02-24T00:00:00\",\"2020-03-02T00:00:00\",\"2020-03-09T00:00:00\",\"2020-03-16T00:00:00\",\"2020-03-23T00:00:00\",\"2020-03-30T00:00:00\",\"2020-04-06T00:00:00\",\"2020-04-13T00:00:00\",\"2020-04-20T00:00:00\",\"2020-04-27T00:00:00\",\"2020-05-04T00:00:00\",\"2020-05-11T00:00:00\",\"2020-05-18T00:00:00\",\"2020-05-25T00:00:00\"],\"xaxis\":\"x\",\"y\":[100.0,100.0,100.0,100.0,100.0,100.0,100.0,100.0,100.0,100.0,100.0,100.0,100.0,100.0],\"yaxis\":\"y\",\"type\":\"scatter\"}],                        {\"template\":{\"data\":{\"histogram2dcontour\":[{\"type\":\"histogram2dcontour\",\"colorbar\":{\"outlinewidth\":0,\"ticks\":\"\"},\"colorscale\":[[0.0,\"#0d0887\"],[0.1111111111111111,\"#46039f\"],[0.2222222222222222,\"#7201a8\"],[0.3333333333333333,\"#9c179e\"],[0.4444444444444444,\"#bd3786\"],[0.5555555555555556,\"#d8576b\"],[0.6666666666666666,\"#ed7953\"],[0.7777777777777778,\"#fb9f3a\"],[0.8888888888888888,\"#fdca26\"],[1.0,\"#f0f921\"]]}],\"choropleth\":[{\"type\":\"choropleth\",\"colorbar\":{\"outlinewidth\":0,\"ticks\":\"\"}}],\"histogram2d\":[{\"type\":\"histogram2d\",\"colorbar\":{\"outlinewidth\":0,\"ticks\":\"\"},\"colorscale\":[[0.0,\"#0d0887\"],[0.1111111111111111,\"#46039f\"],[0.2222222222222222,\"#7201a8\"],[0.3333333333333333,\"#9c179e\"],[0.4444444444444444,\"#bd3786\"],[0.5555555555555556,\"#d8576b\"],[0.6666666666666666,\"#ed7953\"],[0.7777777777777778,\"#fb9f3a\"],[0.8888888888888888,\"#fdca26\"],[1.0,\"#f0f921\"]]}],\"heatmap\":[{\"type\":\"heatmap\",\"colorbar\":{\"outlinewidth\":0,\"ticks\":\"\"},\"colorscale\":[[0.0,\"#0d0887\"],[0.1111111111111111,\"#46039f\"],[0.2222222222222222,\"#7201a8\"],[0.3333333333333333,\"#9c179e\"],[0.4444444444444444,\"#bd3786\"],[0.5555555555555556,\"#d8576b\"],[0.6666666666666666,\"#ed7953\"],[0.7777777777777778,\"#fb9f3a\"],[0.8888888888888888,\"#fdca26\"],[1.0,\"#f0f921\"]]}],\"heatmapgl\":[{\"type\":\"heatmapgl\",\"colorbar\":{\"outlinewidth\":0,\"ticks\":\"\"},\"colorscale\":[[0.0,\"#0d0887\"],[0.1111111111111111,\"#46039f\"],[0.2222222222222222,\"#7201a8\"],[0.3333333333333333,\"#9c179e\"],[0.4444444444444444,\"#bd3786\"],[0.5555555555555556,\"#d8576b\"],[0.6666666666666666,\"#ed7953\"],[0.7777777777777778,\"#fb9f3a\"],[0.8888888888888888,\"#fdca26\"],[1.0,\"#f0f921\"]]}],\"contourcarpet\":[{\"type\":\"contourcarpet\",\"colorbar\":{\"outlinewidth\":0,\"ticks\":\"\"}}],\"contour\":[{\"type\":\"contour\",\"colorbar\":{\"outlinewidth\":0,\"ticks\":\"\"},\"colorscale\":[[0.0,\"#0d0887\"],[0.1111111111111111,\"#46039f\"],[0.2222222222222222,\"#7201a8\"],[0.3333333333333333,\"#9c179e\"],[0.4444444444444444,\"#bd3786\"],[0.5555555555555556,\"#d8576b\"],[0.6666666666666666,\"#ed7953\"],[0.7777777777777778,\"#fb9f3a\"],[0.8888888888888888,\"#fdca26\"],[1.0,\"#f0f921\"]]}],\"surface\":[{\"type\":\"surface\",\"colorbar\":{\"outlinewidth\":0,\"ticks\":\"\"},\"colorscale\":[[0.0,\"#0d0887\"],[0.1111111111111111,\"#46039f\"],[0.2222222222222222,\"#7201a8\"],[0.3333333333333333,\"#9c179e\"],[0.4444444444444444,\"#bd3786\"],[0.5555555555555556,\"#d8576b\"],[0.6666666666666666,\"#ed7953\"],[0.7777777777777778,\"#fb9f3a\"],[0.8888888888888888,\"#fdca26\"],[1.0,\"#f0f921\"]]}],\"mesh3d\":[{\"type\":\"mesh3d\",\"colorbar\":{\"outlinewidth\":0,\"ticks\":\"\"}}],\"scatter\":[{\"fillpattern\":{\"fillmode\":\"overlay\",\"size\":10,\"solidity\":0.2},\"type\":\"scatter\"}],\"parcoords\":[{\"type\":\"parcoords\",\"line\":{\"colorbar\":{\"outlinewidth\":0,\"ticks\":\"\"}}}],\"scatterpolargl\":[{\"type\":\"scatterpolargl\",\"marker\":{\"colorbar\":{\"outlinewidth\":0,\"ticks\":\"\"}}}],\"bar\":[{\"error_x\":{\"color\":\"#2a3f5f\"},\"error_y\":{\"color\":\"#2a3f5f\"},\"marker\":{\"line\":{\"color\":\"#E5ECF6\",\"width\":0.5},\"pattern\":{\"fillmode\":\"overlay\",\"size\":10,\"solidity\":0.2}},\"type\":\"bar\"}],\"scattergeo\":[{\"type\":\"scattergeo\",\"marker\":{\"colorbar\":{\"outlinewidth\":0,\"ticks\":\"\"}}}],\"scatterpolar\":[{\"type\":\"scatterpolar\",\"marker\":{\"colorbar\":{\"outlinewidth\":0,\"ticks\":\"\"}}}],\"histogram\":[{\"marker\":{\"pattern\":{\"fillmode\":\"overlay\",\"size\":10,\"solidity\":0.2}},\"type\":\"histogram\"}],\"scattergl\":[{\"type\":\"scattergl\",\"marker\":{\"colorbar\":{\"outlinewidth\":0,\"ticks\":\"\"}}}],\"scatter3d\":[{\"type\":\"scatter3d\",\"line\":{\"colorbar\":{\"outlinewidth\":0,\"ticks\":\"\"}},\"marker\":{\"colorbar\":{\"outlinewidth\":0,\"ticks\":\"\"}}}],\"scattermapbox\":[{\"type\":\"scattermapbox\",\"marker\":{\"colorbar\":{\"outlinewidth\":0,\"ticks\":\"\"}}}],\"scatterternary\":[{\"type\":\"scatterternary\",\"marker\":{\"colorbar\":{\"outlinewidth\":0,\"ticks\":\"\"}}}],\"scattercarpet\":[{\"type\":\"scattercarpet\",\"marker\":{\"colorbar\":{\"outlinewidth\":0,\"ticks\":\"\"}}}],\"carpet\":[{\"aaxis\":{\"endlinecolor\":\"#2a3f5f\",\"gridcolor\":\"white\",\"linecolor\":\"white\",\"minorgridcolor\":\"white\",\"startlinecolor\":\"#2a3f5f\"},\"baxis\":{\"endlinecolor\":\"#2a3f5f\",\"gridcolor\":\"white\",\"linecolor\":\"white\",\"minorgridcolor\":\"white\",\"startlinecolor\":\"#2a3f5f\"},\"type\":\"carpet\"}],\"table\":[{\"cells\":{\"fill\":{\"color\":\"#EBF0F8\"},\"line\":{\"color\":\"white\"}},\"header\":{\"fill\":{\"color\":\"#C8D4E3\"},\"line\":{\"color\":\"white\"}},\"type\":\"table\"}],\"barpolar\":[{\"marker\":{\"line\":{\"color\":\"#E5ECF6\",\"width\":0.5},\"pattern\":{\"fillmode\":\"overlay\",\"size\":10,\"solidity\":0.2}},\"type\":\"barpolar\"}],\"pie\":[{\"automargin\":true,\"type\":\"pie\"}]},\"layout\":{\"autotypenumbers\":\"strict\",\"colorway\":[\"#636efa\",\"#EF553B\",\"#00cc96\",\"#ab63fa\",\"#FFA15A\",\"#19d3f3\",\"#FF6692\",\"#B6E880\",\"#FF97FF\",\"#FECB52\"],\"font\":{\"color\":\"#2a3f5f\"},\"hovermode\":\"closest\",\"hoverlabel\":{\"align\":\"left\"},\"paper_bgcolor\":\"white\",\"plot_bgcolor\":\"#E5ECF6\",\"polar\":{\"bgcolor\":\"#E5ECF6\",\"angularaxis\":{\"gridcolor\":\"white\",\"linecolor\":\"white\",\"ticks\":\"\"},\"radialaxis\":{\"gridcolor\":\"white\",\"linecolor\":\"white\",\"ticks\":\"\"}},\"ternary\":{\"bgcolor\":\"#E5ECF6\",\"aaxis\":{\"gridcolor\":\"white\",\"linecolor\":\"white\",\"ticks\":\"\"},\"baxis\":{\"gridcolor\":\"white\",\"linecolor\":\"white\",\"ticks\":\"\"},\"caxis\":{\"gridcolor\":\"white\",\"linecolor\":\"white\",\"ticks\":\"\"}},\"coloraxis\":{\"colorbar\":{\"outlinewidth\":0,\"ticks\":\"\"}},\"colorscale\":{\"sequential\":[[0.0,\"#0d0887\"],[0.1111111111111111,\"#46039f\"],[0.2222222222222222,\"#7201a8\"],[0.3333333333333333,\"#9c179e\"],[0.4444444444444444,\"#bd3786\"],[0.5555555555555556,\"#d8576b\"],[0.6666666666666666,\"#ed7953\"],[0.7777777777777778,\"#fb9f3a\"],[0.8888888888888888,\"#fdca26\"],[1.0,\"#f0f921\"]],\"sequentialminus\":[[0.0,\"#0d0887\"],[0.1111111111111111,\"#46039f\"],[0.2222222222222222,\"#7201a8\"],[0.3333333333333333,\"#9c179e\"],[0.4444444444444444,\"#bd3786\"],[0.5555555555555556,\"#d8576b\"],[0.6666666666666666,\"#ed7953\"],[0.7777777777777778,\"#fb9f3a\"],[0.8888888888888888,\"#fdca26\"],[1.0,\"#f0f921\"]],\"diverging\":[[0,\"#8e0152\"],[0.1,\"#c51b7d\"],[0.2,\"#de77ae\"],[0.3,\"#f1b6da\"],[0.4,\"#fde0ef\"],[0.5,\"#f7f7f7\"],[0.6,\"#e6f5d0\"],[0.7,\"#b8e186\"],[0.8,\"#7fbc41\"],[0.9,\"#4d9221\"],[1,\"#276419\"]]},\"xaxis\":{\"gridcolor\":\"white\",\"linecolor\":\"white\",\"ticks\":\"\",\"title\":{\"standoff\":15},\"zerolinecolor\":\"white\",\"automargin\":true,\"zerolinewidth\":2},\"yaxis\":{\"gridcolor\":\"white\",\"linecolor\":\"white\",\"ticks\":\"\",\"title\":{\"standoff\":15},\"zerolinecolor\":\"white\",\"automargin\":true,\"zerolinewidth\":2},\"scene\":{\"xaxis\":{\"backgroundcolor\":\"#E5ECF6\",\"gridcolor\":\"white\",\"linecolor\":\"white\",\"showbackground\":true,\"ticks\":\"\",\"zerolinecolor\":\"white\",\"gridwidth\":2},\"yaxis\":{\"backgroundcolor\":\"#E5ECF6\",\"gridcolor\":\"white\",\"linecolor\":\"white\",\"showbackground\":true,\"ticks\":\"\",\"zerolinecolor\":\"white\",\"gridwidth\":2},\"zaxis\":{\"backgroundcolor\":\"#E5ECF6\",\"gridcolor\":\"white\",\"linecolor\":\"white\",\"showbackground\":true,\"ticks\":\"\",\"zerolinecolor\":\"white\",\"gridwidth\":2}},\"shapedefaults\":{\"line\":{\"color\":\"#2a3f5f\"}},\"annotationdefaults\":{\"arrowcolor\":\"#2a3f5f\",\"arrowhead\":0,\"arrowwidth\":1},\"geo\":{\"bgcolor\":\"white\",\"landcolor\":\"#E5ECF6\",\"subunitcolor\":\"white\",\"showland\":true,\"showlakes\":true,\"lakecolor\":\"white\"},\"title\":{\"x\":0.05},\"mapbox\":{\"style\":\"light\"}}},\"xaxis\":{\"anchor\":\"y\",\"domain\":[0.0,1.0],\"title\":{\"text\":\"Collection Week\"}},\"yaxis\":{\"anchor\":\"x\",\"domain\":[0.0,1.0],\"title\":{\"text\":\"Weekly Prevalence (%)\"}},\"legend\":{\"title\":{\"text\":\"Mutation\"},\"tracegroupgap\":0},\"title\":{\"text\":\"Temporal Prevalence of Key SARS-CoV-2 Mutations (Synthetic Data)\"},\"hovermode\":\"x unified\"},                        {\"responsive\": true}                    ).then(function(){\n",
              "                            \n",
              "var gd = document.getElementById('a9169511-f6af-4492-8eba-3b7e668a509b');\n",
              "var x = new MutationObserver(function (mutations, observer) {{\n",
              "        var display = window.getComputedStyle(gd).display;\n",
              "        if (!display || display === 'none') {{\n",
              "            console.log([gd, 'removed!']);\n",
              "            Plotly.purge(gd);\n",
              "            observer.disconnect();\n",
              "        }}\n",
              "}});\n",
              "\n",
              "// Listen for the removal of the full notebook cells\n",
              "var notebookContainer = gd.closest('#notebook-container');\n",
              "if (notebookContainer) {{\n",
              "    x.observe(notebookContainer, {childList: true});\n",
              "}}\n",
              "\n",
              "// Listen for the clearing of the current output cell\n",
              "var outputEl = gd.closest('.output');\n",
              "if (outputEl) {{\n",
              "    x.observe(outputEl, {childList: true});\n",
              "}}\n",
              "\n",
              "                        })                };                            </script>        </div>\n",
              "</body>\n",
              "</html>"
            ]
          },
          "metadata": {}
        }
      ]
    },
    {
      "cell_type": "code",
      "source": [],
      "metadata": {
        "id": "ngYPEepTMQyW"
      },
      "execution_count": null,
      "outputs": []
    }
  ]
}